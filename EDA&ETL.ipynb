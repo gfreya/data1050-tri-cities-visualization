{
 "cells": [
  {
   "cell_type": "markdown",
   "metadata": {},
   "source": [
    "# EDA and ETL Process\n",
    "This file presents the data exploration and data cleaning process. "
   ]
  },
  {
   "cell_type": "markdown",
   "metadata": {},
   "source": [
    "## 1. Data Description \n",
    "The dataset is from two data sources: one records the [load interconnection capability](https://transmission.bpa.gov/Business/Operations/Charts/triCities.txt) in tri-cities, another records a project \"[Ashe 230kV Main Bus Voltage](https://transmission.bpa.gov/Business/Operations/Charts/ashe.txt)\" in tri-cities. They are both updated every 5 minutes, and stored in a txt file."
   ]
  },
  {
   "cell_type": "code",
   "execution_count": 1,
   "metadata": {},
   "outputs": [
    {
     "name": "stdout",
     "output_type": "stream",
     "text": [
      "Ashe 230kV Main Bus Voltage\n",
      "at 5-minute intervals, last 7 days\n",
      "Dates: 04Dec2021 - 11Dec2021 (last updated 10Dec2021 09:10:37) Pacific Time\n",
      "Based on 5-min readings from the BPA SCADA system for point 2022\n",
      "BPA/Technical Operations (TOT-OpInfo@bpa.gov)\n",
      "\n",
      "Date/Time       \t\n",
      "12/04/2021 00:00\t240.396\n",
      "12/04/2021 00:05\t240.396\n",
      "12/04/2021 00:10\t240.552\n",
      "12/04/2021 00:15\t240.084\n",
      "12/04/2021 00:20\t240.24\n",
      "12/04/2021 00:25\t240.552\n",
      "12/04/2021 00:30\t240.552\n",
      "12/04/2021 00:35\t240.396\n",
      "12/04/2021 00:40\t\n",
      "...\n",
      ":45\t\n",
      "12/10/2021 21:50\t\n",
      "12/10/2021 21:55\t\n",
      "12/10/2021 22:00\t\n",
      "12/10/2021 22:05\t\n",
      "12/10/2021 22:10\t\n",
      "12/10/2021 22:15\t\n",
      "12/10/2021 22:20\t\n",
      "12/10/2021 22:25\t\n",
      "12/10/2021 22:30\t\n",
      "12/10/2021 22:35\t\n",
      "12/10/2021 22:40\t\n",
      "12/10/2021 22:45\t\n",
      "12/10/2021 22:50\t\n",
      "12/10/2021 22:55\t\n",
      "12/10/2021 23:00\t\n",
      "12/10/2021 23:05\t\n",
      "12/10/2021 23:10\t\n",
      "12/10/2021 23:15\t\n",
      "12/10/2021 23:20\t\n",
      "12/10/2021 23:25\t\n",
      "12/10/2021 23:30\t\n",
      "12/10/2021 23:35\t\n",
      "12/10/2021 23:40\t\n",
      "12/10/2021 23:45\t\n",
      "12/10/2021 23:50\t\n",
      "12/10/2021 23:55\t\n",
      "\n"
     ]
    }
   ],
   "source": [
    "import requests\n",
    "\n",
    "# Ashe 230kV Main Bus Voltage Dataset\n",
    "url1 = \"https://transmission.bpa.gov/Business/Operations/Charts/ashe.txt\"\n",
    "req1 = requests.get(url1)\n",
    "req1.raise_for_status()\n",
    "text1 = req1.text\n",
    "print(text1[:500])\n",
    "print('...')\n",
    "print(text1[-500:])"
   ]
  },
  {
   "cell_type": "code",
   "execution_count": 2,
   "metadata": {},
   "outputs": [
    {
     "name": "stdout",
     "output_type": "stream",
     "text": [
      "Tri-Cities Load/Import/Gen\n",
      "at 5-minute intervals, last 7 days\n",
      "Dates: 04Dec2021 - 11Dec2021 (last updated 10Dec2021 09:10:41) Pacific Time\n",
      "Based on 5-min MW readings from the BPA SCADA system for points 98222, 98223, 98220\n",
      "BPA/Technical Operations (TOT-OpInfo@bpa.gov)\n",
      "\n",
      "Date/Time       \tImport\tLoad\tGeneration\n",
      "12/04/2021 00:00\t365.9039\t456.0815\t90.17763\n",
      "12/04/2021 00:05\t366.6361\t455.9711\t89.33501\n",
      "12/04/2021 00:10\t364.2567\t453.2793\t89.02254\n",
      "12/04/2021 00:15\t364.5209\t452.8102\t88.28934\n",
      "12/0\n",
      "...\n",
      "0/2021 22:00\t\t\t\n",
      "12/10/2021 22:05\t\t\t\n",
      "12/10/2021 22:10\t\t\t\n",
      "12/10/2021 22:15\t\t\t\n",
      "12/10/2021 22:20\t\t\t\n",
      "12/10/2021 22:25\t\t\t\n",
      "12/10/2021 22:30\t\t\t\n",
      "12/10/2021 22:35\t\t\t\n",
      "12/10/2021 22:40\t\t\t\n",
      "12/10/2021 22:45\t\t\t\n",
      "12/10/2021 22:50\t\t\t\n",
      "12/10/2021 22:55\t\t\t\n",
      "12/10/2021 23:00\t\t\t\n",
      "12/10/2021 23:05\t\t\t\n",
      "12/10/2021 23:10\t\t\t\n",
      "12/10/2021 23:15\t\t\t\n",
      "12/10/2021 23:20\t\t\t\n",
      "12/10/2021 23:25\t\t\t\n",
      "12/10/2021 23:30\t\t\t\n",
      "12/10/2021 23:35\t\t\t\n",
      "12/10/2021 23:40\t\t\t\n",
      "12/10/2021 23:45\t\t\t\n",
      "12/10/2021 23:50\t\t\t\n",
      "12/10/2021 23:55\t\t\t\n",
      "\n"
     ]
    }
   ],
   "source": [
    "# Tri-Cities Load/Import/Gen\n",
    "url2 = \"https://transmission.bpa.gov/Business/Operations/Charts/triCities.txt\"\n",
    "req2 = requests.get(url2, timeout=0.5)\n",
    "req2.raise_for_status()\n",
    "text2 = req2.text\n",
    "print(text2[:500])\n",
    "print('...')\n",
    "print(text2[-500:])"
   ]
  },
  {
   "cell_type": "markdown",
   "metadata": {},
   "source": [
    "## 2. Convert the Raw Data to Dataframe\n",
    "We use pandas to make the transformation, and give the voltage column from the Ashe 230kV Main Bus Voltage dataset a column name."
   ]
  },
  {
   "cell_type": "code",
   "execution_count": 4,
   "metadata": {},
   "outputs": [
    {
     "data": {
      "text/html": [
       "<div>\n",
       "<style scoped>\n",
       "    .dataframe tbody tr th:only-of-type {\n",
       "        vertical-align: middle;\n",
       "    }\n",
       "\n",
       "    .dataframe tbody tr th {\n",
       "        vertical-align: top;\n",
       "    }\n",
       "\n",
       "    .dataframe thead th {\n",
       "        text-align: right;\n",
       "    }\n",
       "</style>\n",
       "<table border=\"1\" class=\"dataframe\">\n",
       "  <thead>\n",
       "    <tr style=\"text-align: right;\">\n",
       "      <th></th>\n",
       "      <th>vol_value</th>\n",
       "      <th>Datetime</th>\n",
       "    </tr>\n",
       "  </thead>\n",
       "  <tbody>\n",
       "    <tr>\n",
       "      <th>0</th>\n",
       "      <td>240.396</td>\n",
       "      <td>2021-12-04 00:00:00</td>\n",
       "    </tr>\n",
       "    <tr>\n",
       "      <th>1</th>\n",
       "      <td>240.396</td>\n",
       "      <td>2021-12-04 00:05:00</td>\n",
       "    </tr>\n",
       "    <tr>\n",
       "      <th>2</th>\n",
       "      <td>240.552</td>\n",
       "      <td>2021-12-04 00:10:00</td>\n",
       "    </tr>\n",
       "    <tr>\n",
       "      <th>3</th>\n",
       "      <td>240.084</td>\n",
       "      <td>2021-12-04 00:15:00</td>\n",
       "    </tr>\n",
       "    <tr>\n",
       "      <th>4</th>\n",
       "      <td>240.240</td>\n",
       "      <td>2021-12-04 00:20:00</td>\n",
       "    </tr>\n",
       "  </tbody>\n",
       "</table>\n",
       "</div>"
      ],
      "text/plain": [
       "   vol_value            Datetime\n",
       "0    240.396 2021-12-04 00:00:00\n",
       "1    240.396 2021-12-04 00:05:00\n",
       "2    240.552 2021-12-04 00:10:00\n",
       "3    240.084 2021-12-04 00:15:00\n",
       "4    240.240 2021-12-04 00:20:00"
      ]
     },
     "execution_count": 4,
     "metadata": {},
     "output_type": "execute_result"
    }
   ],
   "source": [
    "import pandas as pd\n",
    "from io import StringIO\n",
    "\n",
    "df1 = pd.read_csv(StringIO(text1), skiprows=6, delimiter='\\t')\n",
    "df1.columns = df1.columns.str.strip()             # remove space in columns name\n",
    "df1['Datetime'] = pd.to_datetime(df1['Date/Time'])\n",
    "df1.drop(columns=['Date/Time'], axis=1, inplace=True)\n",
    "df1.dropna(inplace=True)  \n",
    "df1.columns = ['vol_value', 'Datetime']\n",
    "df1.head()"
   ]
  },
  {
   "cell_type": "code",
   "execution_count": 5,
   "metadata": {},
   "outputs": [
    {
     "data": {
      "text/html": [
       "<div>\n",
       "<style scoped>\n",
       "    .dataframe tbody tr th:only-of-type {\n",
       "        vertical-align: middle;\n",
       "    }\n",
       "\n",
       "    .dataframe tbody tr th {\n",
       "        vertical-align: top;\n",
       "    }\n",
       "\n",
       "    .dataframe thead th {\n",
       "        text-align: right;\n",
       "    }\n",
       "</style>\n",
       "<table border=\"1\" class=\"dataframe\">\n",
       "  <thead>\n",
       "    <tr style=\"text-align: right;\">\n",
       "      <th></th>\n",
       "      <th>Import</th>\n",
       "      <th>Load</th>\n",
       "      <th>Generation</th>\n",
       "      <th>Datetime</th>\n",
       "    </tr>\n",
       "  </thead>\n",
       "  <tbody>\n",
       "    <tr>\n",
       "      <th>0</th>\n",
       "      <td>365.9039</td>\n",
       "      <td>456.0815</td>\n",
       "      <td>90.17763</td>\n",
       "      <td>2021-12-04 00:00:00</td>\n",
       "    </tr>\n",
       "    <tr>\n",
       "      <th>1</th>\n",
       "      <td>366.6361</td>\n",
       "      <td>455.9711</td>\n",
       "      <td>89.33501</td>\n",
       "      <td>2021-12-04 00:05:00</td>\n",
       "    </tr>\n",
       "    <tr>\n",
       "      <th>2</th>\n",
       "      <td>364.2567</td>\n",
       "      <td>453.2793</td>\n",
       "      <td>89.02254</td>\n",
       "      <td>2021-12-04 00:10:00</td>\n",
       "    </tr>\n",
       "    <tr>\n",
       "      <th>3</th>\n",
       "      <td>364.5209</td>\n",
       "      <td>452.8102</td>\n",
       "      <td>88.28934</td>\n",
       "      <td>2021-12-04 00:15:00</td>\n",
       "    </tr>\n",
       "    <tr>\n",
       "      <th>4</th>\n",
       "      <td>362.2499</td>\n",
       "      <td>450.5781</td>\n",
       "      <td>88.32825</td>\n",
       "      <td>2021-12-04 00:20:00</td>\n",
       "    </tr>\n",
       "  </tbody>\n",
       "</table>\n",
       "</div>"
      ],
      "text/plain": [
       "     Import      Load  Generation            Datetime\n",
       "0  365.9039  456.0815    90.17763 2021-12-04 00:00:00\n",
       "1  366.6361  455.9711    89.33501 2021-12-04 00:05:00\n",
       "2  364.2567  453.2793    89.02254 2021-12-04 00:10:00\n",
       "3  364.5209  452.8102    88.28934 2021-12-04 00:15:00\n",
       "4  362.2499  450.5781    88.32825 2021-12-04 00:20:00"
      ]
     },
     "execution_count": 5,
     "metadata": {},
     "output_type": "execute_result"
    }
   ],
   "source": [
    "# use the same method to get the second df\n",
    "df2 = pd.read_csv(StringIO(text2), skiprows=6, delimiter='\\t')\n",
    "df2.columns = df2.columns.str.strip()             # remove space in columns name\n",
    "df2['Datetime'] = pd.to_datetime(df2['Date/Time'])\n",
    "df2.drop(columns=['Date/Time'], axis=1, inplace=True)\n",
    "df2.dropna(inplace=True)  \n",
    "df2.head()"
   ]
  },
  {
   "cell_type": "code",
   "execution_count": 6,
   "metadata": {},
   "outputs": [
    {
     "data": {
      "text/html": [
       "<div>\n",
       "<style scoped>\n",
       "    .dataframe tbody tr th:only-of-type {\n",
       "        vertical-align: middle;\n",
       "    }\n",
       "\n",
       "    .dataframe tbody tr th {\n",
       "        vertical-align: top;\n",
       "    }\n",
       "\n",
       "    .dataframe thead th {\n",
       "        text-align: right;\n",
       "    }\n",
       "</style>\n",
       "<table border=\"1\" class=\"dataframe\">\n",
       "  <thead>\n",
       "    <tr style=\"text-align: right;\">\n",
       "      <th></th>\n",
       "      <th>Datetime</th>\n",
       "      <th>vol_value</th>\n",
       "      <th>Import</th>\n",
       "      <th>Load</th>\n",
       "      <th>Generation</th>\n",
       "    </tr>\n",
       "  </thead>\n",
       "  <tbody>\n",
       "    <tr>\n",
       "      <th>0</th>\n",
       "      <td>2021-12-04 00:00:00</td>\n",
       "      <td>240.396</td>\n",
       "      <td>365.9039</td>\n",
       "      <td>456.0815</td>\n",
       "      <td>90.17763</td>\n",
       "    </tr>\n",
       "    <tr>\n",
       "      <th>1</th>\n",
       "      <td>2021-12-04 00:05:00</td>\n",
       "      <td>240.396</td>\n",
       "      <td>366.6361</td>\n",
       "      <td>455.9711</td>\n",
       "      <td>89.33501</td>\n",
       "    </tr>\n",
       "    <tr>\n",
       "      <th>2</th>\n",
       "      <td>2021-12-04 00:10:00</td>\n",
       "      <td>240.552</td>\n",
       "      <td>364.2567</td>\n",
       "      <td>453.2793</td>\n",
       "      <td>89.02254</td>\n",
       "    </tr>\n",
       "    <tr>\n",
       "      <th>3</th>\n",
       "      <td>2021-12-04 00:15:00</td>\n",
       "      <td>240.084</td>\n",
       "      <td>364.5209</td>\n",
       "      <td>452.8102</td>\n",
       "      <td>88.28934</td>\n",
       "    </tr>\n",
       "    <tr>\n",
       "      <th>4</th>\n",
       "      <td>2021-12-04 00:20:00</td>\n",
       "      <td>240.240</td>\n",
       "      <td>362.2499</td>\n",
       "      <td>450.5781</td>\n",
       "      <td>88.32825</td>\n",
       "    </tr>\n",
       "  </tbody>\n",
       "</table>\n",
       "</div>"
      ],
      "text/plain": [
       "             Datetime  vol_value    Import      Load  Generation\n",
       "0 2021-12-04 00:00:00    240.396  365.9039  456.0815    90.17763\n",
       "1 2021-12-04 00:05:00    240.396  366.6361  455.9711    89.33501\n",
       "2 2021-12-04 00:10:00    240.552  364.2567  453.2793    89.02254\n",
       "3 2021-12-04 00:15:00    240.084  364.5209  452.8102    88.28934\n",
       "4 2021-12-04 00:20:00    240.240  362.2499  450.5781    88.32825"
      ]
     },
     "execution_count": 6,
     "metadata": {},
     "output_type": "execute_result"
    }
   ],
   "source": [
    "# Two datasets are joined together\n",
    "df2.drop(['Datetime'], axis=1, inplace=True)\n",
    "df = pd.concat([df1, df2], axis=1)\n",
    "# change the order for the columns\n",
    "df = df[['Datetime', 'vol_value', 'Import', 'Load', 'Generation']] \n",
    "df.head()"
   ]
  },
  {
   "cell_type": "markdown",
   "metadata": {},
   "source": [
    "## 3. Save and Update the Dataset into Database: MongoDB\n",
    "We locate the data document, update it if exists or insert the rows into the dataset."
   ]
  },
  {
   "cell_type": "code",
   "execution_count": 8,
   "metadata": {},
   "outputs": [],
   "source": [
    "import pymongo\n",
    "\n",
    "client = pymongo.MongoClient()"
   ]
  },
  {
   "cell_type": "code",
   "execution_count": 10,
   "metadata": {},
   "outputs": [
    {
     "name": "stdout",
     "output_type": "stream",
     "text": [
      "rows = 1839 update = 1839 insert = 0\n"
     ]
    }
   ],
   "source": [
    "db = client.get_database(\"voltage\")\n",
    "collection = db.get_collection(\"voltage\")\n",
    "update_count = 0\n",
    "for record in df.to_dict('records'): # convert the dataframe into dict\n",
    "    result = collection.replace_one(\n",
    "        filter={'Datetime': record['Datetime']},    # locate the document if exists\n",
    "        replacement=record,                         # latest document\n",
    "        upsert=True)                                # update if exists, insert if not\n",
    "    if result.matched_count > 0:\n",
    "        update_count += 1\n",
    "print(\"rows =\", df.shape[0], \"update =\",update_count, \"insert =\",df.shape[0]-update_count)"
   ]
  }
 ],
 "metadata": {
  "interpreter": {
   "hash": "625c31d6b4db3d7e7e2853cc30dc2062e1cda684f3e49d5f899ae496ae755fe0"
  },
  "kernelspec": {
   "display_name": "Python 3.8.12 64-bit ('3.8.12': pyenv)",
   "name": "python3"
  },
  "language_info": {
   "codemirror_mode": {
    "name": "ipython",
    "version": 3
   },
   "file_extension": ".py",
   "mimetype": "text/x-python",
   "name": "python",
   "nbconvert_exporter": "python",
   "pygments_lexer": "ipython3",
   "version": "3.8.12"
  }
 },
 "nbformat": 4,
 "nbformat_minor": 1
}
